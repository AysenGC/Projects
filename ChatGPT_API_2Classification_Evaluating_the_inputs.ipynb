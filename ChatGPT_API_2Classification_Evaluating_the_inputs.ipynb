{
  "nbformat": 4,
  "nbformat_minor": 0,
  "metadata": {
    "colab": {
      "provenance": [],
      "authorship_tag": "ABX9TyOZzqDWYcAIuXnEzF4neuOD",
      "include_colab_link": true
    },
    "kernelspec": {
      "name": "python3",
      "display_name": "Python 3"
    },
    "language_info": {
      "name": "python"
    }
  },
  "cells": [
    {
      "cell_type": "markdown",
      "metadata": {
        "id": "view-in-github",
        "colab_type": "text"
      },
      "source": [
        "<a href=\"https://colab.research.google.com/github/AysenGC/Projects/blob/main/ChatGPT_API_2Classification_Evaluating_the_inputs.ipynb\" target=\"_parent\"><img src=\"https://colab.research.google.com/assets/colab-badge.svg\" alt=\"Open In Colab\"/></a>"
      ]
    },
    {
      "cell_type": "code",
      "execution_count": null,
      "metadata": {
        "id": "kjOcG2Gog0l-"
      },
      "outputs": [],
      "source": [
        "#Importing the necessary Python packages\n",
        "!pip install openai\n",
        "import os\n",
        "import openai\n",
        "from dotenv import load_dotenv, find_dotenv\n",
        "_ = load_dotenv(find_dotenv()) # read local .env file\n",
        "\n",
        "openai.api_key  = os.environ['OPENAI_API_KEY']"
      ]
    },
    {
      "cell_type": "code",
      "source": [
        "def get_completion_from_messages(messages,\n",
        "                                 model=\"gpt-3.5-turbo\",\n",
        "                                 temperature=0,\n",
        "                                 max_tokens=500):\n",
        "    response = openai.ChatCompletion.create(\n",
        "        model=model,\n",
        "        messages=messages,\n",
        "        temperature=temperature,\n",
        "        max_tokens=max_tokens,\n",
        "    )\n",
        "    return response.choices[0].message[\"content\"]"
      ],
      "metadata": {
        "id": "ROvvCZ4rhNqX"
      },
      "execution_count": null,
      "outputs": []
    },
    {
      "cell_type": "code",
      "source": [
        "#Classify customer queries to handle different cases\n",
        "delimiter = \"####\"\n",
        "system_message = f\"\"\"\n",
        "You will be provided with customer service queries. \\\n",
        "The customer service query will be delimited with \\\n",
        "{delimiter} characters.\n",
        "Classify each query into a primary category \\\n",
        "and a secondary category.\n",
        "Provide your output in json format with the \\\n",
        "keys: primary and secondary.\n",
        "\n",
        "Primary categories: Billing, Technical Support, \\\n",
        "Account Management, or General Inquiry.\n",
        "\n",
        "Billing secondary categories:\n",
        "Unsubscribe or upgrade\n",
        "Add a payment method\n",
        "Explanation for charge\n",
        "Dispute a charge\n",
        "\n",
        "Technical Support secondary categories:\n",
        "General troubleshooting\n",
        "Device compatibility\n",
        "Software updates\n",
        "\n",
        "Account Management secondary categories:\n",
        "Password reset\n",
        "Update personal information\n",
        "Close account\n",
        "Account security\n",
        "General Inquiry secondary categories:\n",
        "Product information\n",
        "Pricing\n",
        "Feedback\n",
        "Speak to a human\n",
        "\n",
        "\"\"\"\n",
        "user_message = f\"\"\"\\\n",
        "I want you to delete my profile and all of my user data\"\"\"\n",
        "messages =  [\n",
        "{'role':'system',\n",
        " 'content': system_message},\n",
        "{'role':'user',\n",
        " 'content': f\"{delimiter}{user_message}{delimiter}\"},\n",
        "]\n",
        "response = get_completion_from_messages(messages)\n",
        "print(response)"
      ],
      "metadata": {
        "id": "1WAM5eGghTB3"
      },
      "execution_count": null,
      "outputs": []
    },
    {
      "cell_type": "code",
      "source": [
        "user_message = f\"\"\"\\\n",
        "Tell me more about your flat screen tvs\"\"\"\n",
        "messages =  [\n",
        "{'role':'system',\n",
        " 'content': system_message},\n",
        "{'role':'user',\n",
        " 'content': f\"{delimiter}{user_message}{delimiter}\"},\n",
        "]\n",
        "response = get_completion_from_messages(messages)\n",
        "print(response)"
      ],
      "metadata": {
        "id": "9gcOSUD9iWBE"
      },
      "execution_count": null,
      "outputs": []
    },
    {
      "cell_type": "markdown",
      "source": [
        "Source: https://learn.deeplearning.ai/chatgpt-building-system/lesson/3/classification\n"
      ],
      "metadata": {
        "id": "tb318QhgiY8D"
      }
    }
  ]
}