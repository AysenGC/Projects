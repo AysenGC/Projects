{
  "nbformat": 4,
  "nbformat_minor": 0,
  "metadata": {
    "colab": {
      "provenance": [],
      "authorship_tag": "ABX9TyPCGTUB1/h9KG5ZDHFeDiqd",
      "include_colab_link": true
    },
    "kernelspec": {
      "name": "python3",
      "display_name": "Python 3"
    },
    "language_info": {
      "name": "python"
    }
  },
  "cells": [
    {
      "cell_type": "markdown",
      "metadata": {
        "id": "view-in-github",
        "colab_type": "text"
      },
      "source": [
        "<a href=\"https://colab.research.google.com/github/AysenGC/Projects/blob/main/Emoji_exercise.ipynb\" target=\"_parent\"><img src=\"https://colab.research.google.com/assets/colab-badge.svg\" alt=\"Open In Colab\"/></a>"
      ]
    },
    {
      "cell_type": "markdown",
      "source": [
        "**Using the Emoji and Emot libraries of Python for handling emojis and emoticons in a text**"
      ],
      "metadata": {
        "id": "7ewaYPg0NUEF"
      }
    },
    {
      "cell_type": "code",
      "execution_count": null,
      "metadata": {
        "colab": {
          "base_uri": "https://localhost:8080/"
        },
        "id": "XDVU_TjGy0IE",
        "outputId": "23972e26-0c9f-485c-ec59-bb13ae6a4d0a"
      },
      "outputs": [
        {
          "output_type": "stream",
          "name": "stdout",
          "text": [
            "Requirement already satisfied: emoji in /usr/local/lib/python3.10/dist-packages (2.9.0)\n",
            "Hello world !\n"
          ]
        }
      ],
      "source": [
        "#Installing the emoji library\n",
        "\n",
        "!pip install emoji\n",
        "import emoji\n",
        "\n",
        "#The Python function to remove emojis and extra spaces from a given string:\n",
        "def remove_emojis_and_spaces(text):\n",
        "\n",
        "  #Remove emojis\n",
        "  text = emoji.replace_emoji(text, replace='')\n",
        "\n",
        "  #Remove spaces before and after emojis, and keep one space between \"Hello\" and \"World\"\n",
        "  text = text.replace(\"  \", \" \")\n",
        "\n",
        "  return text\n",
        "\n",
        "#Here is an example of how to use the function:\n",
        "\n",
        "text = \"Hello 😀 world 🌎!\"\n",
        "\n",
        "print(remove_emojis_and_spaces(text))\n"
      ]
    },
    {
      "cell_type": "code",
      "source": [
        "text = \"Gotcha!👍\"\n",
        "print(remove_emojis_and_spaces(text))"
      ],
      "metadata": {
        "colab": {
          "base_uri": "https://localhost:8080/"
        },
        "id": "JBuZ-SU90u7a",
        "outputId": "a6b8fc1c-c4f8-4289-c6d1-97d3f6243145"
      },
      "execution_count": null,
      "outputs": [
        {
          "output_type": "stream",
          "name": "stdout",
          "text": [
            "Gotcha!\n"
          ]
        }
      ]
    },
    {
      "cell_type": "code",
      "source": [
        "#Displaying the emoji's string equivalents\n",
        "from emoji import demojize\n",
        "text = \"I love nature!🐻🌱🍃🌼\"\n",
        "text = emoji.demojize(text)\n",
        "print(text)"
      ],
      "metadata": {
        "colab": {
          "base_uri": "https://localhost:8080/"
        },
        "id": "bCTf8pkT1n5s",
        "outputId": "6e8b8e7b-64a1-4c13-89c5-bbf7cea40d1e"
      },
      "execution_count": null,
      "outputs": [
        {
          "output_type": "stream",
          "name": "stdout",
          "text": [
            "I love nature!:bear::seedling::leaf_fluttering_in_wind::blossom:\n"
          ]
        }
      ]
    },
    {
      "cell_type": "code",
      "source": [
        "#Replacing one emoji with another\n",
        "text = \"Python is 👍\"\n",
        "text ="
      ],
      "metadata": {
        "id": "Fql__clU5fIN"
      },
      "execution_count": null,
      "outputs": []
    },
    {
      "cell_type": "code",
      "source": [
        "#Removing emojis and surrounding spaces with regex\n",
        "\n",
        "import re\n",
        "\n",
        "def remove_emojis_and_spaces(text):\n",
        "    # Define Unicode ranges for emojis, excluding the \"rolling on the floor laughing\" emoji\n",
        "    emoji_pattern = re.compile(\"[\"\n",
        "                               u\"\\U0001F600-\\U0001F923\"  # emoticons\n",
        "                               u\"\\U0001F620-\\U0001F64F\"  # additional faces\n",
        "                               u\"\\U0001F680-\\U0001F6FF\"  # transport & map symbols\n",
        "                               u\"\\U0001F700-\\U0001F773\"  # alchemical symbols, emojis, etc.\n",
        "                               \"]+\", flags=re.UNICODE)\n",
        "\n",
        "    # Remove emojis and surrounding spaces using regex\n",
        "    text_without_emojis = emoji_pattern.sub('', text).strip()\n",
        "\n",
        "    # Remove all extra spaces\n",
        "    text_without_emojis = text_without_emojis.replace(\"  \", \" \")\n",
        "\n",
        "    return text_without_emojis\n",
        "\n",
        "# Example text with emojis including \"rolling on the floor laughing\" emoji\n",
        "text_with_emojis = \"Hello! 😀 This is a text with emojis. 😊 Enjoy! 🤣\"\n",
        "\n",
        "# Remove emojis and extra spaces\n",
        "result_text = remove_emojis_and_spaces(text_with_emojis)\n",
        "\n",
        "print(\"Text without emojis and extra spaces:\")\n",
        "print(result_text)\n"
      ],
      "metadata": {
        "colab": {
          "base_uri": "https://localhost:8080/"
        },
        "id": "LK85bm1A5bcR",
        "outputId": "068486f5-4040-49cc-91a6-0221063330d9"
      },
      "execution_count": null,
      "outputs": [
        {
          "output_type": "stream",
          "name": "stdout",
          "text": [
            "Text without emojis and extra spaces:\n",
            "Hello! This is a text with emojis. Enjoy!\n"
          ]
        }
      ]
    },
    {
      "cell_type": "code",
      "source": [
        "#Counting emojis with emoji_count()\n",
        "print(emoji.emoji_count('Hello! 😀 This is a text with emojis. 😊 Enjoy! 🤣'))"
      ],
      "metadata": {
        "colab": {
          "base_uri": "https://localhost:8080/"
        },
        "id": "B8h57ghwILts",
        "outputId": "228b0ec6-840f-49c3-bb88-01fec238574d"
      },
      "execution_count": 55,
      "outputs": [
        {
          "output_type": "stream",
          "name": "stdout",
          "text": [
            "3\n"
          ]
        }
      ]
    },
    {
      "cell_type": "code",
      "source": [
        "#Emojizing\n",
        "print(emoji.emojize('Python is :thumbs_up:'))\n"
      ],
      "metadata": {
        "colab": {
          "base_uri": "https://localhost:8080/"
        },
        "id": "K071_mfE_vDj",
        "outputId": "51fe72d5-7872-4b30-a51b-8641db182698"
      },
      "execution_count": null,
      "outputs": [
        {
          "output_type": "stream",
          "name": "stdout",
          "text": [
            "Python is 👍\n"
          ]
        }
      ]
    },
    {
      "cell_type": "code",
      "source": [
        "#Demojizing\n",
        "print(emoji.demojize('Python is 👍'))"
      ],
      "metadata": {
        "colab": {
          "base_uri": "https://localhost:8080/"
        },
        "id": "eklySctZA8Io",
        "outputId": "2f95e546-5a9f-4bfe-abf7-7440a3e8e0e5"
      },
      "execution_count": null,
      "outputs": [
        {
          "output_type": "stream",
          "name": "stdout",
          "text": [
            "Python is :thumbs_up:\n"
          ]
        }
      ]
    },
    {
      "cell_type": "code",
      "source": [
        "#Replacing emoji\n",
        "emoji.replace_emoji('Python is 👍', replace='👎')"
      ],
      "metadata": {
        "id": "fGMXulvcBrFn"
      },
      "execution_count": null,
      "outputs": []
    },
    {
      "cell_type": "code",
      "source": [
        "#Getting the unicode of an emoji\n",
        "def unicode_escape(chars, data_dict):\n",
        "    return chars.encode('unicode-escape').decode()\n",
        "emoji.replace_emoji('Python is 👍', replace=unicode_escape)"
      ],
      "metadata": {
        "colab": {
          "base_uri": "https://localhost:8080/",
          "height": 35
        },
        "id": "vzO4Way6B9PV",
        "outputId": "a79aa14f-0159-4793-f646-84e44696878e"
      },
      "execution_count": null,
      "outputs": [
        {
          "output_type": "execute_result",
          "data": {
            "text/plain": [
              "'Python is \\\\U0001f44d'"
            ],
            "application/vnd.google.colaboratory.intrinsic+json": {
              "type": "string"
            }
          },
          "metadata": {},
          "execution_count": 49
        }
      ]
    },
    {
      "cell_type": "code",
      "source": [
        "#Importing the EMOT library\n",
        "!pip install emot --upgrade\n",
        "import emot"
      ],
      "metadata": {
        "id": "tJ0Z8Ov7CXeV",
        "colab": {
          "base_uri": "https://localhost:8080/"
        },
        "outputId": "b8f13997-2f87-4936-ad71-8fb4713a43f6"
      },
      "execution_count": null,
      "outputs": [
        {
          "output_type": "stream",
          "name": "stdout",
          "text": [
            "Collecting emot\n",
            "  Downloading emot-3.1-py3-none-any.whl (61 kB)\n",
            "\u001b[?25l     \u001b[90m━━━━━━━━━━━━━━━━━━━━━━━━━━━━━━━━━━━━━━━━\u001b[0m \u001b[32m0.0/61.5 kB\u001b[0m \u001b[31m?\u001b[0m eta \u001b[36m-:--:--\u001b[0m\r\u001b[2K     \u001b[91m━━━━━━━━━━━━━━━━━━━━━━━━━━\u001b[0m\u001b[91m╸\u001b[0m\u001b[90m━━━━━━━━━━━━━\u001b[0m \u001b[32m41.0/61.5 kB\u001b[0m \u001b[31m1.1 MB/s\u001b[0m eta \u001b[36m0:00:01\u001b[0m\r\u001b[2K     \u001b[90m━━━━━━━━━━━━━━━━━━━━━━━━━━━━━━━━━━━━━━━━\u001b[0m \u001b[32m61.5/61.5 kB\u001b[0m \u001b[31m1.2 MB/s\u001b[0m eta \u001b[36m0:00:00\u001b[0m\n",
            "\u001b[?25hInstalling collected packages: emot\n",
            "Successfully installed emot-3.1\n"
          ]
        }
      ]
    },
    {
      "cell_type": "markdown",
      "source": [
        "Once the library has been loaded, you can pass through a string and EMOT will return a dictionary that has 4 keys:\n",
        "\n",
        "“value” : Contains a list of all emojis in the string\n",
        "“mean”: Contains a list of the meanings associated with the values. For example 🤣 would return “:rolling_on_the_floor_laughing:”\n",
        "“ location” : specifies where in the string the emoji was\n",
        "“flag”: A boolean that specifies if emojis or emoticons are present in the string. True means emoji or emoticons are present, False means absent"
      ],
      "metadata": {
        "id": "2lwZYqjMFHIt"
      }
    },
    {
      "cell_type": "code",
      "source": [
        "#Creating an emot object\n",
        "emot_object = emot.core.emot()"
      ],
      "metadata": {
        "id": "WroOfxoZFKn4"
      },
      "execution_count": 51,
      "outputs": []
    },
    {
      "cell_type": "code",
      "source": [
        "#Finding the emoji with its location\n",
        "text = \"This is a brilliant movie 👌\"\n",
        "emot_object.emoji(text)\n"
      ],
      "metadata": {
        "colab": {
          "base_uri": "https://localhost:8080/"
        },
        "id": "gpqd9qYJFutB",
        "outputId": "c6da4a2c-801b-4172-a04d-81f7c02c0ed6"
      },
      "execution_count": 52,
      "outputs": [
        {
          "output_type": "execute_result",
          "data": {
            "text/plain": [
              "{'value': ['👌'], 'location': [[26, 27]], 'mean': [':OK_hand:'], 'flag': True}"
            ]
          },
          "metadata": {},
          "execution_count": 52
        }
      ]
    },
    {
      "cell_type": "code",
      "source": [
        "text = \"I love Python ❤️, it is brilliant 👍\"\n",
        "emot_object.emoji(text)"
      ],
      "metadata": {
        "colab": {
          "base_uri": "https://localhost:8080/"
        },
        "id": "cnapq2KIF-sQ",
        "outputId": "74e94bf3-3fae-4a5d-c042-3d6a08e71b21"
      },
      "execution_count": 53,
      "outputs": [
        {
          "output_type": "execute_result",
          "data": {
            "text/plain": [
              "{'value': ['❤', '👍'],\n",
              " 'location': [[14, 15], [34, 35]],\n",
              " 'mean': [':red_heart:', ':thumbs_up:'],\n",
              " 'flag': True}"
            ]
          },
          "metadata": {},
          "execution_count": 53
        }
      ]
    },
    {
      "cell_type": "code",
      "source": [
        "#Detecting \"emoticons\" in the text\n",
        "text = \"My phone's battery died :/, do you have a charger? :(\"\n",
        "emot_object.emoticons(text)"
      ],
      "metadata": {
        "colab": {
          "base_uri": "https://localhost:8080/"
        },
        "id": "tSYCvjBBGLe7",
        "outputId": "fb3499c8-be62-4368-a104-85ec09c7a03b"
      },
      "execution_count": 54,
      "outputs": [
        {
          "output_type": "execute_result",
          "data": {
            "text/plain": [
              "{'value': [':/', ':('],\n",
              " 'location': [[24, 26], [51, 53]],\n",
              " 'mean': ['Skeptical, annoyed, undecided, uneasy or hesitant',\n",
              "  'Frown, sad, andry or pouting'],\n",
              " 'flag': True}"
            ]
          },
          "metadata": {},
          "execution_count": 54
        }
      ]
    },
    {
      "cell_type": "code",
      "source": [
        "#How many times each emoji occured in a text with Counter\n",
        "import regex as re\n",
        "from collections import Counter\n",
        "\n",
        "def count_emojis(text):\n",
        "    #Defining regex pattern to match emojis\n",
        "    emoji_pattern = re.compile(\"[\"\n",
        "                               u\"\\U0001F600-\\U0001F64F\"  # emoticons\n",
        "                               u\"\\U0001F300-\\U0001F5FF\"  # symbols & pictographs\n",
        "                               u\"\\U0001F680-\\U0001F6FF\"  # transport & map symbols\n",
        "                               u\"\\U0001F700-\\U0001F773\"  # alchemical symbols, emojis, etc.\n",
        "                               u\"\\U0001F780-\\U0001F7FF\"  # various symbols\n",
        "                               u\"\\U0001F800-\\U0001F8FF\"  # various symbols\n",
        "                               u\"\\U0001F900-\\U0001F9FF\"  # various symbols\n",
        "                               u\"\\U0001FA00-\\U0001FA6F\"  # various symbols\n",
        "                               u\"\\U0001FA70-\\U0001FAFF\"  # various symbols\n",
        "                               u\"\\U00002702-\\U000027B0\"  # various symbols\n",
        "                               u\"\\U000024C2-\\U0001F251\"  # various symbols\n",
        "                               \"]+\", flags=re.UNICODE)\n",
        "\n",
        "    #Finding all emojis in the text\n",
        "    emojis_list = emoji_pattern.findall(text)\n",
        "\n",
        "    # Counting total number of emojis\n",
        "    total_emojis = len(emojis_list)\n",
        "\n",
        "    #Counting occurrences of each emoji\n",
        "    emoji_counts = Counter(emojis_list)\n",
        "\n",
        "    return total_emojis, emoji_counts\n",
        "\n",
        "#Example text with emojis\n",
        "text_with_emojis = \"Hello! 😀 This is a text with emojis. 😊 Enjoy! 🤣 😀🤣🤣\"\n",
        "\n",
        "#Count total number of emojis and their occurrences\n",
        "#Note: It counts the adjacent ones as one emoji\n",
        "total_emojis, emoji_occurrences = count_emojis(text_with_emojis)\n",
        "\n",
        "print(\"Total number of emojis:\", total_emojis)\n",
        "print(\"Occurrences of each emoji:\")\n",
        "print(emoji_occurrences)\n"
      ],
      "metadata": {
        "colab": {
          "base_uri": "https://localhost:8080/"
        },
        "id": "lqKlf4GrGvb0",
        "outputId": "0d5542af-57b3-446e-ab67-97c588e1eaf7"
      },
      "execution_count": 56,
      "outputs": [
        {
          "output_type": "stream",
          "name": "stdout",
          "text": [
            "Total number of emojis: 4\n",
            "Occurrences of each emoji:\n",
            "Counter({'😀': 1, '😊': 1, '🤣': 1, '😀🤣🤣': 1})\n"
          ]
        }
      ]
    }
  ]
}